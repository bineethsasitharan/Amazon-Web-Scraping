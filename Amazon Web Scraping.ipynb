{
 "cells": [
  {
   "cell_type": "markdown",
   "id": "9ccc053d",
   "metadata": {},
   "source": [
    "# Amazon Web Scraping"
   ]
  },
  {
   "cell_type": "markdown",
   "id": "852054a3",
   "metadata": {},
   "source": [
    "### Installing required libraries"
   ]
  },
  {
   "cell_type": "code",
   "execution_count": 1,
   "id": "c3befbb5",
   "metadata": {},
   "outputs": [
    {
     "name": "stdout",
     "output_type": "stream",
     "text": [
      "Requirement already satisfied: beautifulsoup4 in c:\\users\\asus\\anaconda3\\lib\\site-packages (4.11.1)\n",
      "Requirement already satisfied: soupsieve>1.2 in c:\\users\\asus\\anaconda3\\lib\\site-packages (from beautifulsoup4) (2.3.2.post1)\n"
     ]
    },
    {
     "name": "stderr",
     "output_type": "stream",
     "text": [
      "WARNING: Ignoring invalid distribution -ygments (c:\\users\\asus\\anaconda3\\lib\\site-packages)\n",
      "WARNING: Ignoring invalid distribution -ygments (c:\\users\\asus\\anaconda3\\lib\\site-packages)\n",
      "WARNING: Ignoring invalid distribution -ygments (c:\\users\\asus\\anaconda3\\lib\\site-packages)\n",
      "WARNING: Ignoring invalid distribution -ygments (c:\\users\\asus\\anaconda3\\lib\\site-packages)\n",
      "WARNING: Ignoring invalid distribution -ygments (c:\\users\\asus\\anaconda3\\lib\\site-packages)\n",
      "WARNING: Ignoring invalid distribution -ygments (c:\\users\\asus\\anaconda3\\lib\\site-packages)\n"
     ]
    }
   ],
   "source": [
    "! pip install beautifulsoup4"
   ]
  },
  {
   "cell_type": "code",
   "execution_count": 2,
   "id": "33ffe8bf",
   "metadata": {},
   "outputs": [
    {
     "name": "stdout",
     "output_type": "stream",
     "text": [
      "Requirement already satisfied: requests in c:\\users\\asus\\anaconda3\\lib\\site-packages (2.28.1)\n",
      "Requirement already satisfied: charset-normalizer<3,>=2 in c:\\users\\asus\\anaconda3\\lib\\site-packages (from requests) (2.0.4)\n",
      "Requirement already satisfied: idna<4,>=2.5 in c:\\users\\asus\\anaconda3\\lib\\site-packages (from requests) (3.4)\n",
      "Requirement already satisfied: urllib3<1.27,>=1.21.1 in c:\\users\\asus\\anaconda3\\lib\\site-packages (from requests) (1.26.14)\n",
      "Requirement already satisfied: certifi>=2017.4.17 in c:\\users\\asus\\anaconda3\\lib\\site-packages (from requests) (2023.5.7)\n"
     ]
    },
    {
     "name": "stderr",
     "output_type": "stream",
     "text": [
      "WARNING: Ignoring invalid distribution -ygments (c:\\users\\asus\\anaconda3\\lib\\site-packages)\n",
      "WARNING: Ignoring invalid distribution -ygments (c:\\users\\asus\\anaconda3\\lib\\site-packages)\n",
      "WARNING: Ignoring invalid distribution -ygments (c:\\users\\asus\\anaconda3\\lib\\site-packages)\n",
      "WARNING: Ignoring invalid distribution -ygments (c:\\users\\asus\\anaconda3\\lib\\site-packages)\n",
      "WARNING: Ignoring invalid distribution -ygments (c:\\users\\asus\\anaconda3\\lib\\site-packages)\n",
      "WARNING: Ignoring invalid distribution -ygments (c:\\users\\asus\\anaconda3\\lib\\site-packages)\n"
     ]
    }
   ],
   "source": [
    "! pip install requests"
   ]
  },
  {
   "cell_type": "code",
   "execution_count": 3,
   "id": "757b59f3",
   "metadata": {},
   "outputs": [
    {
     "name": "stdout",
     "output_type": "stream",
     "text": [
      "Requirement already satisfied: selenium in c:\\users\\asus\\anaconda3\\lib\\site-packages (4.11.2)\n",
      "Requirement already satisfied: trio~=0.17 in c:\\users\\asus\\anaconda3\\lib\\site-packages (from selenium) (0.22.2)\n",
      "Requirement already satisfied: certifi>=2021.10.8 in c:\\users\\asus\\anaconda3\\lib\\site-packages (from selenium) (2023.5.7)\n",
      "Requirement already satisfied: trio-websocket~=0.9 in c:\\users\\asus\\anaconda3\\lib\\site-packages (from selenium) (0.10.3)\n",
      "Requirement already satisfied: urllib3[socks]<3,>=1.26 in c:\\users\\asus\\anaconda3\\lib\\site-packages (from selenium) (1.26.14)\n",
      "Requirement already satisfied: sortedcontainers in c:\\users\\asus\\anaconda3\\lib\\site-packages (from trio~=0.17->selenium) (2.4.0)\n",
      "Requirement already satisfied: attrs>=20.1.0 in c:\\users\\asus\\anaconda3\\lib\\site-packages (from trio~=0.17->selenium) (22.1.0)\n",
      "Requirement already satisfied: exceptiongroup>=1.0.0rc9 in c:\\users\\asus\\anaconda3\\lib\\site-packages (from trio~=0.17->selenium) (1.1.3)\n",
      "Requirement already satisfied: outcome in c:\\users\\asus\\anaconda3\\lib\\site-packages (from trio~=0.17->selenium) (1.2.0)\n",
      "Requirement already satisfied: sniffio in c:\\users\\asus\\anaconda3\\lib\\site-packages (from trio~=0.17->selenium) (1.2.0)\n",
      "Requirement already satisfied: idna in c:\\users\\asus\\anaconda3\\lib\\site-packages (from trio~=0.17->selenium) (3.4)\n",
      "Requirement already satisfied: cffi>=1.14 in c:\\users\\asus\\anaconda3\\lib\\site-packages (from trio~=0.17->selenium) (1.15.1)\n",
      "Requirement already satisfied: wsproto>=0.14 in c:\\users\\asus\\anaconda3\\lib\\site-packages (from trio-websocket~=0.9->selenium) (1.2.0)\n",
      "Requirement already satisfied: PySocks!=1.5.7,<2.0,>=1.5.6 in c:\\users\\asus\\anaconda3\\lib\\site-packages (from urllib3[socks]<3,>=1.26->selenium) (1.7.1)\n",
      "Requirement already satisfied: pycparser in c:\\users\\asus\\anaconda3\\lib\\site-packages (from cffi>=1.14->trio~=0.17->selenium) (2.21)\n",
      "Requirement already satisfied: h11<1,>=0.9.0 in c:\\users\\asus\\anaconda3\\lib\\site-packages (from wsproto>=0.14->trio-websocket~=0.9->selenium) (0.14.0)\n"
     ]
    },
    {
     "name": "stderr",
     "output_type": "stream",
     "text": [
      "WARNING: Ignoring invalid distribution -ygments (c:\\users\\asus\\anaconda3\\lib\\site-packages)\n",
      "WARNING: Ignoring invalid distribution -ygments (c:\\users\\asus\\anaconda3\\lib\\site-packages)\n",
      "WARNING: Ignoring invalid distribution -ygments (c:\\users\\asus\\anaconda3\\lib\\site-packages)\n",
      "WARNING: Ignoring invalid distribution -ygments (c:\\users\\asus\\anaconda3\\lib\\site-packages)\n",
      "WARNING: Ignoring invalid distribution -ygments (c:\\users\\asus\\anaconda3\\lib\\site-packages)\n",
      "WARNING: Ignoring invalid distribution -ygments (c:\\users\\asus\\anaconda3\\lib\\site-packages)\n"
     ]
    }
   ],
   "source": [
    "! pip install selenium"
   ]
  },
  {
   "cell_type": "markdown",
   "id": "00a60ed2",
   "metadata": {},
   "source": [
    "### Importing required libraries"
   ]
  },
  {
   "cell_type": "code",
   "execution_count": 4,
   "id": "4921ebfc",
   "metadata": {},
   "outputs": [],
   "source": [
    "# libraries\n",
    "import pandas as pd\n",
    "import requests\n",
    "from bs4 import BeautifulSoup\n",
    "from selenium import webdriver\n",
    "from requests.exceptions import RequestException\n",
    "\n",
    "import warnings\n",
    "warnings.filterwarnings('ignore')"
   ]
  },
  {
   "cell_type": "markdown",
   "id": "5e93ded6",
   "metadata": {},
   "source": [
    "### Web Scraping"
   ]
  },
  {
   "cell_type": "code",
   "execution_count": 7,
   "id": "10470894",
   "metadata": {},
   "outputs": [
    {
     "name": "stdout",
     "output_type": "stream",
     "text": [
      "Web connection is fine --> response code: 200\n",
      "Enter the product category: smart phone\n"
     ]
    }
   ],
   "source": [
    "# defining required fields\n",
    "brand = []\n",
    "description = []\n",
    "price = []\n",
    "link = []\n",
    "\n",
    "# website url\n",
    "url = 'https://www.amazon.in/'\n",
    "\n",
    "try:\n",
    "    \n",
    "    # requesting response\n",
    "    response = requests.get(url)\n",
    "    response.raise_for_status()\n",
    "    print('Web connection is fine --> response code:',response.status_code)\n",
    "    \n",
    "    # getting product category\n",
    "    product_category = input('Enter the product category: ')\n",
    "    \n",
    "    # initializing browser\n",
    "    driver = webdriver.Firefox()\n",
    "    \n",
    "    # running browser with url\n",
    "    driver.get(url)\n",
    "    \n",
    "    for i in range(1,11):\n",
    "        def search_url(product):\n",
    "            url_template = 'https://www.amazon.in/s?k={}&page={}&crid=2TF1YHXH6RU5S&qid=1693134262&sprefix={}%2Caps%2C214&ref=sr_pg_{}'\n",
    "    \n",
    "            product = product.replace(' ', '+')\n",
    "            return url_template.format(product, i, product, i)\n",
    "        \n",
    "        driver.get(search_url(product_category))\n",
    "        \n",
    "        soup = BeautifulSoup(driver.page_source, 'html.parser')\n",
    "        \n",
    "        # brand\n",
    "        try:\n",
    "            brand_ = soup.find_all('span', class_ = 'a-size-medium a-color-base a-text-normal')\n",
    "            \n",
    "            for i in brand_:\n",
    "                try:\n",
    "                    brand.append(i.text.split(' ')[0])\n",
    "                except:\n",
    "                    brand.append(None)\n",
    "                    \n",
    "        except AttributeError:\n",
    "            print('Brand Attribute Not Found')\n",
    "        \n",
    "        # description\n",
    "        try:\n",
    "            des_ = soup.find_all('span', class_ = 'a-size-medium a-color-base a-text-normal')\n",
    "            \n",
    "            for i in des_:\n",
    "                try:\n",
    "                    description.append(i.text)\n",
    "                except:\n",
    "                    description.append(None)\n",
    "                    \n",
    "        except AttributeError:\n",
    "            print('Description Attribute Not Found')\n",
    "            \n",
    "        # price\n",
    "        try:\n",
    "            price_ = soup.find_all('span', class_= 'a-price-whole')\n",
    "            \n",
    "            for i in price_:\n",
    "                try:\n",
    "                    price.append(i.text)\n",
    "                except:\n",
    "                    price.append(None)\n",
    "                    \n",
    "        except AttributeError:\n",
    "            print('Price Attribute Not Found')\n",
    "\n",
    "        # link\n",
    "        try:\n",
    "            link_ = soup.find_all('a', class_ = 'a-link-normal s-underline-text s-underline-link-text s-link-style a-text-normal')\n",
    "            \n",
    "            for i in link_:\n",
    "                try:\n",
    "                    link.append('https://www.amazon.in' + i.get('href'))\n",
    "                except:\n",
    "                    link.append(None)\n",
    "                    \n",
    "        except AttributeError:\n",
    "            print('Link Attribute Not Found')\n",
    "        \n",
    "\n",
    "    driver.quit()\n",
    "            \n",
    "except RequestException as error:\n",
    "    print(error)"
   ]
  },
  {
   "cell_type": "markdown",
   "id": "27fe3a60",
   "metadata": {},
   "source": [
    "### Creating dataframe"
   ]
  },
  {
   "cell_type": "code",
   "execution_count": 8,
   "id": "fc2f8612",
   "metadata": {},
   "outputs": [
    {
     "data": {
      "text/html": [
       "<div>\n",
       "<style scoped>\n",
       "    .dataframe tbody tr th:only-of-type {\n",
       "        vertical-align: middle;\n",
       "    }\n",
       "\n",
       "    .dataframe tbody tr th {\n",
       "        vertical-align: top;\n",
       "    }\n",
       "\n",
       "    .dataframe thead th {\n",
       "        text-align: right;\n",
       "    }\n",
       "</style>\n",
       "<table border=\"1\" class=\"dataframe\">\n",
       "  <thead>\n",
       "    <tr style=\"text-align: right;\">\n",
       "      <th></th>\n",
       "      <th>Brand</th>\n",
       "      <th>Description</th>\n",
       "      <th>Price</th>\n",
       "      <th>link</th>\n",
       "    </tr>\n",
       "  </thead>\n",
       "  <tbody>\n",
       "    <tr>\n",
       "      <th>0</th>\n",
       "      <td>TECNO</td>\n",
       "      <td>TECNO Pova 5 (Amber Gold, 8GB RAM,128GB Storag...</td>\n",
       "      <td>11,999</td>\n",
       "      <td>https://www.amazon.in/sspa/click?ie=UTF8&amp;spc=M...</td>\n",
       "    </tr>\n",
       "    <tr>\n",
       "      <th>1</th>\n",
       "      <td>TECNO</td>\n",
       "      <td>TECNO Pova 5 Pro 5G (Silver Fantasy, 8GB RAM,1...</td>\n",
       "      <td>14,999</td>\n",
       "      <td>https://www.amazon.in/sspa/click?ie=UTF8&amp;spc=M...</td>\n",
       "    </tr>\n",
       "    <tr>\n",
       "      <th>2</th>\n",
       "      <td>Redmi</td>\n",
       "      <td>Redmi A2 (Aqua Blue, 2GB RAM, 32GB Storage) | ...</td>\n",
       "      <td>6,499</td>\n",
       "      <td>https://www.amazon.in/Redmi-Storage-Powerful-P...</td>\n",
       "    </tr>\n",
       "    <tr>\n",
       "      <th>3</th>\n",
       "      <td>OnePlus</td>\n",
       "      <td>OnePlus Nord CE 3 Lite 5G (Chromatic Gray, 8GB...</td>\n",
       "      <td>21,999</td>\n",
       "      <td>https://www.amazon.in/OnePlus-Nord-Chromatic-2...</td>\n",
       "    </tr>\n",
       "    <tr>\n",
       "      <th>4</th>\n",
       "      <td>Samsung</td>\n",
       "      <td>Samsung Galaxy M04 Light Green, 4GB RAM, 128GB...</td>\n",
       "      <td>9,499</td>\n",
       "      <td>https://www.amazon.in/Samsung-Storage-MediaTek...</td>\n",
       "    </tr>\n",
       "  </tbody>\n",
       "</table>\n",
       "</div>"
      ],
      "text/plain": [
       "     Brand                                        Description   Price  \\\n",
       "0    TECNO  TECNO Pova 5 (Amber Gold, 8GB RAM,128GB Storag...  11,999   \n",
       "1    TECNO  TECNO Pova 5 Pro 5G (Silver Fantasy, 8GB RAM,1...  14,999   \n",
       "2    Redmi  Redmi A2 (Aqua Blue, 2GB RAM, 32GB Storage) | ...   6,499   \n",
       "3  OnePlus  OnePlus Nord CE 3 Lite 5G (Chromatic Gray, 8GB...  21,999   \n",
       "4  Samsung  Samsung Galaxy M04 Light Green, 4GB RAM, 128GB...   9,499   \n",
       "\n",
       "                                                link  \n",
       "0  https://www.amazon.in/sspa/click?ie=UTF8&spc=M...  \n",
       "1  https://www.amazon.in/sspa/click?ie=UTF8&spc=M...  \n",
       "2  https://www.amazon.in/Redmi-Storage-Powerful-P...  \n",
       "3  https://www.amazon.in/OnePlus-Nord-Chromatic-2...  \n",
       "4  https://www.amazon.in/Samsung-Storage-MediaTek...  "
      ]
     },
     "execution_count": 8,
     "metadata": {},
     "output_type": "execute_result"
    }
   ],
   "source": [
    "# defining dataframe with the data \n",
    "df = pd.DataFrame()\n",
    "\n",
    "df['Brand'] = brand\n",
    "df['Description'] = description\n",
    "df['Price'] = price\n",
    "df['link'] = link\n",
    "    \n",
    "df.head()"
   ]
  },
  {
   "cell_type": "code",
   "execution_count": 9,
   "id": "a44ec436",
   "metadata": {},
   "outputs": [
    {
     "data": {
      "text/plain": [
       "(200, 4)"
      ]
     },
     "execution_count": 9,
     "metadata": {},
     "output_type": "execute_result"
    }
   ],
   "source": [
    "df.shape"
   ]
  },
  {
   "cell_type": "code",
   "execution_count": 10,
   "id": "53cf2444",
   "metadata": {},
   "outputs": [
    {
     "name": "stdout",
     "output_type": "stream",
     "text": [
      "<class 'pandas.core.frame.DataFrame'>\n",
      "RangeIndex: 200 entries, 0 to 199\n",
      "Data columns (total 4 columns):\n",
      " #   Column       Non-Null Count  Dtype \n",
      "---  ------       --------------  ----- \n",
      " 0   Brand        200 non-null    object\n",
      " 1   Description  200 non-null    object\n",
      " 2   Price        200 non-null    object\n",
      " 3   link         200 non-null    object\n",
      "dtypes: object(4)\n",
      "memory usage: 6.4+ KB\n"
     ]
    }
   ],
   "source": [
    "df.info()"
   ]
  },
  {
   "cell_type": "markdown",
   "id": "deda9803",
   "metadata": {},
   "source": [
    "### Saving into csv file"
   ]
  },
  {
   "cell_type": "code",
   "execution_count": 11,
   "id": "8b77ea18",
   "metadata": {},
   "outputs": [],
   "source": [
    "# saving the dataset\n",
    "df.to_csv('Amazon_' + product_category + '.csv')"
   ]
  },
  {
   "cell_type": "code",
   "execution_count": null,
   "id": "b3463ada",
   "metadata": {},
   "outputs": [],
   "source": []
  }
 ],
 "metadata": {
  "kernelspec": {
   "display_name": "Python 3 (ipykernel)",
   "language": "python",
   "name": "python3"
  },
  "language_info": {
   "codemirror_mode": {
    "name": "ipython",
    "version": 3
   },
   "file_extension": ".py",
   "mimetype": "text/x-python",
   "name": "python",
   "nbconvert_exporter": "python",
   "pygments_lexer": "ipython3",
   "version": "3.10.9"
  }
 },
 "nbformat": 4,
 "nbformat_minor": 5
}
